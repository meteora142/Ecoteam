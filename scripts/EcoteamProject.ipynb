{
 "cells": [
  {
   "cell_type": "markdown",
   "metadata": {},
   "source": [
    "# Импорт библиотек"
   ]
  },
  {
   "cell_type": "code",
   "execution_count": 70,
   "metadata": {},
   "outputs": [],
   "source": [
    "# Загружаем библиотеки\n",
    "import numpy as np\n",
    "import pandas as pd"
   ]
  },
  {
   "cell_type": "markdown",
   "metadata": {},
   "source": [
    "# Работа с датасетом"
   ]
  },
  {
   "cell_type": "markdown",
   "metadata": {},
   "source": [
    "#### Объявляем функции"
   ]
  },
  {
   "cell_type": "code",
   "execution_count": 71,
   "metadata": {},
   "outputs": [],
   "source": [
    "# Чистка датасета: удаляем дубликаты, фильтруем по двухкомп. системам (так как трёхкомпонентных мало и у них не указан тип DES) и\n",
    "# по плотности < 2, убираем ненужные столбцы\n",
    "def dataset_clear(dataset):\n",
    "    dataset = dataset.drop_duplicates(subset=['Component#1', 'Component#2', \n",
    "                                    'X#1 (molar fraction)', 'X#2 (molar fraction)', \n",
    "                                    'Temperature, K', 'Density, g/cm^3'])\n",
    "    dataset = dataset[(dataset['Number of components'] == 2) & (dataset['Density, g/cm^3'] <= 2.0)]\n",
    "    dataset = dataset.drop(['Number of components', 'Reference (DOI)', 'X#3 (molar fraction)', 'Component#3', 'II'], axis=1)\n",
    "    return dataset"
   ]
  },
  {
   "cell_type": "markdown",
   "metadata": {},
   "source": [
    "#### Подготовка датасета"
   ]
  },
  {
   "cell_type": "code",
   "execution_count": 76,
   "metadata": {},
   "outputs": [
    {
     "data": {
      "text/html": [
       "<div>\n",
       "<style scoped>\n",
       "    .dataframe tbody tr th:only-of-type {\n",
       "        vertical-align: middle;\n",
       "    }\n",
       "\n",
       "    .dataframe tbody tr th {\n",
       "        vertical-align: top;\n",
       "    }\n",
       "\n",
       "    .dataframe thead th {\n",
       "        text-align: right;\n",
       "    }\n",
       "</style>\n",
       "<table border=\"1\" class=\"dataframe\">\n",
       "  <thead>\n",
       "    <tr style=\"text-align: right;\">\n",
       "      <th></th>\n",
       "      <th>Number of components</th>\n",
       "      <th>Type of DES</th>\n",
       "      <th>I</th>\n",
       "      <th>II</th>\n",
       "      <th>III</th>\n",
       "      <th>IV</th>\n",
       "      <th>V</th>\n",
       "      <th>Component#1</th>\n",
       "      <th>Component#2</th>\n",
       "      <th>Component#3</th>\n",
       "      <th>X#1 (molar fraction)</th>\n",
       "      <th>X#2 (molar fraction)</th>\n",
       "      <th>X#3 (molar fraction)</th>\n",
       "      <th>Temperature, K</th>\n",
       "      <th>Density, g/cm^3</th>\n",
       "      <th>Reference (DOI)</th>\n",
       "    </tr>\n",
       "  </thead>\n",
       "  <tbody>\n",
       "    <tr>\n",
       "      <th>0</th>\n",
       "      <td>2</td>\n",
       "      <td>Ⅰ</td>\n",
       "      <td>1</td>\n",
       "      <td>0</td>\n",
       "      <td>0</td>\n",
       "      <td>0</td>\n",
       "      <td>0</td>\n",
       "      <td>Zincchloride</td>\n",
       "      <td>1-Butyl-3-methyl imidazolium chloride</td>\n",
       "      <td>NaN</td>\n",
       "      <td>0.500</td>\n",
       "      <td>0.500</td>\n",
       "      <td>NaN</td>\n",
       "      <td>300.20</td>\n",
       "      <td>1.10250</td>\n",
       "      <td>10.1016/j.cclet.2013.09.004</td>\n",
       "    </tr>\n",
       "    <tr>\n",
       "      <th>1</th>\n",
       "      <td>2</td>\n",
       "      <td>Ⅰ</td>\n",
       "      <td>1</td>\n",
       "      <td>0</td>\n",
       "      <td>0</td>\n",
       "      <td>0</td>\n",
       "      <td>0</td>\n",
       "      <td>Zincchloride</td>\n",
       "      <td>1-Butyl-3-methylimidazolium chloride</td>\n",
       "      <td>NaN</td>\n",
       "      <td>0.500</td>\n",
       "      <td>0.500</td>\n",
       "      <td>NaN</td>\n",
       "      <td>303.15</td>\n",
       "      <td>1.50913</td>\n",
       "      <td>10.1016/j.jobe.2021.103056</td>\n",
       "    </tr>\n",
       "    <tr>\n",
       "      <th>2</th>\n",
       "      <td>2</td>\n",
       "      <td>Ⅰ</td>\n",
       "      <td>1</td>\n",
       "      <td>0</td>\n",
       "      <td>0</td>\n",
       "      <td>0</td>\n",
       "      <td>0</td>\n",
       "      <td>Zincchloride</td>\n",
       "      <td>1-Butyl-3-methylimidazolium chloride</td>\n",
       "      <td>NaN</td>\n",
       "      <td>0.333</td>\n",
       "      <td>0.667</td>\n",
       "      <td>NaN</td>\n",
       "      <td>303.15</td>\n",
       "      <td>1.34292</td>\n",
       "      <td>10.1016/j.jobe.2021.103056</td>\n",
       "    </tr>\n",
       "    <tr>\n",
       "      <th>3</th>\n",
       "      <td>2</td>\n",
       "      <td>Ⅰ</td>\n",
       "      <td>1</td>\n",
       "      <td>0</td>\n",
       "      <td>0</td>\n",
       "      <td>0</td>\n",
       "      <td>0</td>\n",
       "      <td>Iron(3+) Trichloride</td>\n",
       "      <td>Tetrabutylphosphonium bromide</td>\n",
       "      <td>NaN</td>\n",
       "      <td>0.333</td>\n",
       "      <td>0.667</td>\n",
       "      <td>NaN</td>\n",
       "      <td>293.00</td>\n",
       "      <td>1.19500</td>\n",
       "      <td>10.1016/j.cep.2015.04.001</td>\n",
       "    </tr>\n",
       "    <tr>\n",
       "      <th>4</th>\n",
       "      <td>2</td>\n",
       "      <td>Ⅰ</td>\n",
       "      <td>1</td>\n",
       "      <td>0</td>\n",
       "      <td>0</td>\n",
       "      <td>0</td>\n",
       "      <td>0</td>\n",
       "      <td>Iron(3+) Trichloride</td>\n",
       "      <td>Tetrabutylphosphonium bromide</td>\n",
       "      <td>NaN</td>\n",
       "      <td>0.333</td>\n",
       "      <td>0.667</td>\n",
       "      <td>NaN</td>\n",
       "      <td>303.00</td>\n",
       "      <td>1.18800</td>\n",
       "      <td>10.1016/j.cep.2015.04.001</td>\n",
       "    </tr>\n",
       "  </tbody>\n",
       "</table>\n",
       "</div>"
      ],
      "text/plain": [
       "   Number of components Type of DES  I  II  III  IV  V           Component#1  \\\n",
       "0                     2           Ⅰ  1   0    0   0  0          Zincchloride   \n",
       "1                     2           Ⅰ  1   0    0   0  0          Zincchloride   \n",
       "2                     2           Ⅰ  1   0    0   0  0          Zincchloride   \n",
       "3                     2           Ⅰ  1   0    0   0  0  Iron(3+) Trichloride   \n",
       "4                     2           Ⅰ  1   0    0   0  0  Iron(3+) Trichloride   \n",
       "\n",
       "                             Component#2 Component#3  X#1 (molar fraction)  \\\n",
       "0  1-Butyl-3-methyl imidazolium chloride         NaN                 0.500   \n",
       "1   1-Butyl-3-methylimidazolium chloride         NaN                 0.500   \n",
       "2   1-Butyl-3-methylimidazolium chloride         NaN                 0.333   \n",
       "3          Tetrabutylphosphonium bromide         NaN                 0.333   \n",
       "4          Tetrabutylphosphonium bromide         NaN                 0.333   \n",
       "\n",
       "   X#2 (molar fraction)  X#3 (molar fraction)  Temperature, K  \\\n",
       "0                 0.500                   NaN          300.20   \n",
       "1                 0.500                   NaN          303.15   \n",
       "2                 0.667                   NaN          303.15   \n",
       "3                 0.667                   NaN          293.00   \n",
       "4                 0.667                   NaN          303.00   \n",
       "\n",
       "   Density, g/cm^3              Reference (DOI)  \n",
       "0          1.10250  10.1016/j.cclet.2013.09.004  \n",
       "1          1.50913   10.1016/j.jobe.2021.103056  \n",
       "2          1.34292   10.1016/j.jobe.2021.103056  \n",
       "3          1.19500    10.1016/j.cep.2015.04.001  \n",
       "4          1.18800    10.1016/j.cep.2015.04.001  "
      ]
     },
     "execution_count": 76,
     "metadata": {},
     "output_type": "execute_result"
    }
   ],
   "source": [
    "dataset = pd.read_csv('Density.csv')"
   ]
  },
  {
   "cell_type": "code",
   "execution_count": 79,
   "metadata": {},
   "outputs": [],
   "source": [
    "# Чистим датасет\n",
    "pre_dataset = dataset_clear(dataset)"
   ]
  }
 ],
 "metadata": {
  "kernelspec": {
   "display_name": ".figvenv",
   "language": "python",
   "name": "python3"
  },
  "language_info": {
   "codemirror_mode": {
    "name": "ipython",
    "version": 3
   },
   "file_extension": ".py",
   "mimetype": "text/x-python",
   "name": "python",
   "nbconvert_exporter": "python",
   "pygments_lexer": "ipython3",
   "version": "3.10.13"
  },
  "orig_nbformat": 4
 },
 "nbformat": 4,
 "nbformat_minor": 2
}
